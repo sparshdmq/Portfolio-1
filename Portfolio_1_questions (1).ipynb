{
 "cells": [
  {
   "cell_type": "markdown",
   "id": "skHfgkqlqndO",
   "metadata": {
    "id": "skHfgkqlqndO"
   },
   "source": [
    "### Analysis of an E-commerce Dataset\n",
    "\n",
    "We have been provided with a combined e-commerce dataset. In this dataset, each user has the ability to post a rating and review for the products they purchased. Additionally, other users can evaluate the initial rating and review by expressing their trust or distrust.\n",
    "\n",
    "This dataset includes a wealth of information for each user. Details such as their profile, ID, gender, city of birth, product ratings (on a scale of 1-5), reviews, and the prices of the products they purchased are all included. Moreover, for each product rating, we have information about the product name, ID, price, and category, the rating score, the timestamp of the rating and review, and the average helpfulness of the rating given by others (on a scale of 1-5).\n",
    "\n",
    "The dataset is from several data sources, and we have merged all the data into a single CSV file named 'A Combined E-commerce Dataset.csv'. The structure of this dataset is represented in the header shown below.\n",
    "\n",
    "| userId | gender | rating | review| item | category | helpfulness | timestamp | item_id | item_price | user_city|\n",
    "\n",
    "    | ---- | ---- | ---- | ---- | ---- | ---- | ---- | ---- | ---- |  ---- |  ---- |  \n",
    "    \n",
    "#### Description of Fields\n",
    "\n",
    "* __userId__ - the user's id\n",
    "* __gender__ - the user's gender\n",
    "* __rating__ - the user's rating towards the item\n",
    "* __review__ - the user's review towards the item\n",
    "* __item__ - the item's name\n",
    "* __category__ - the category of the item\n",
    "* __helpfulness__ - the average helpfulness of this rating\n",
    "* __timestamp__ - the timestamp when the rating is created\n",
    "* __item_id__ - the item's id\n",
    "* __item_price__ - the item's price\n",
    "* __user_city__ - the city of user's birth\n",
    "\n",
    "Note that, a user may rate multiple items and an item may receive ratings and reviews from multiple users. The \"helpfulness\" is an average value based on all the helpfulness values given by others.\n",
    "\n",
    "There are four questions to explore with the data as shown below.\n",
    "\n",
    "\n",
    "\n",
    "<img src=\"Fig1 The Combined E commerce Dataset (1).png\" align=\"left\" width=\"400\"/>\n",
    "(You can find the data relation diagram on iLearn - Portfolio Part 1 resources - Fig1)\n"
   ]
  },
  {
   "cell_type": "code",
   "execution_count": null,
   "id": "aebe48ee",
   "metadata": {},
   "outputs": [],
   "source": [
    "your name = \"Sparsh Dubey\"\n",
    "your student_id = 48057053"
   ]
  },
  {
   "cell_type": "markdown",
   "id": "-tb7B7VTqndQ",
   "metadata": {
    "id": "-tb7B7VTqndQ"
   },
   "source": [
    " #### Q1. Remove missing data\n",
    "\n",
    "Please remove the following records in the csv file:\n",
    "\n",
    " * gender/rating/helpfulness is missing\n",
    " * review is 'none'\n",
    "\n",
    "__Display the DataFrame, counting number of Null values in each column, and print the length of the data__ before and after removing the missing data.  "
   ]
  },
  {
   "cell_type": "code",
   "execution_count": 2,
   "id": "1ecn6H9VqndQ",
   "metadata": {
    "id": "1ecn6H9VqndQ"
   },
   "outputs": [
    {
     "data": {
      "text/html": [
       "<div>\n",
       "<style scoped>\n",
       "    .dataframe tbody tr th:only-of-type {\n",
       "        vertical-align: middle;\n",
       "    }\n",
       "\n",
       "    .dataframe tbody tr th {\n",
       "        vertical-align: top;\n",
       "    }\n",
       "\n",
       "    .dataframe thead th {\n",
       "        text-align: right;\n",
       "    }\n",
       "</style>\n",
       "<table border=\"1\" class=\"dataframe\">\n",
       "  <thead>\n",
       "    <tr style=\"text-align: right;\">\n",
       "      <th></th>\n",
       "      <th>userId</th>\n",
       "      <th>timestamp</th>\n",
       "      <th>review</th>\n",
       "      <th>item</th>\n",
       "      <th>rating</th>\n",
       "      <th>helpfulness</th>\n",
       "      <th>gender</th>\n",
       "      <th>category</th>\n",
       "      <th>item_id</th>\n",
       "      <th>item_price</th>\n",
       "      <th>user_city</th>\n",
       "    </tr>\n",
       "  </thead>\n",
       "  <tbody>\n",
       "    <tr>\n",
       "      <th>0</th>\n",
       "      <td>4051</td>\n",
       "      <td>12807</td>\n",
       "      <td>Great job for what it is!</td>\n",
       "      <td>eBay</td>\n",
       "      <td>5.0</td>\n",
       "      <td>2.0</td>\n",
       "      <td>F</td>\n",
       "      <td>Online Stores &amp; Services</td>\n",
       "      <td>88</td>\n",
       "      <td>149.00</td>\n",
       "      <td>39</td>\n",
       "    </tr>\n",
       "    <tr>\n",
       "      <th>1</th>\n",
       "      <td>4052</td>\n",
       "      <td>122899</td>\n",
       "      <td>Free Access Worth your Time</td>\n",
       "      <td>NetZero</td>\n",
       "      <td>5.0</td>\n",
       "      <td>0.0</td>\n",
       "      <td>F</td>\n",
       "      <td>Online Stores &amp; Services</td>\n",
       "      <td>46</td>\n",
       "      <td>53.00</td>\n",
       "      <td>39</td>\n",
       "    </tr>\n",
       "    <tr>\n",
       "      <th>2</th>\n",
       "      <td>33</td>\n",
       "      <td>12700</td>\n",
       "      <td>AOL..I love you!!!!!!!!!!!!</td>\n",
       "      <td>AOL (America Online)</td>\n",
       "      <td>5.0</td>\n",
       "      <td>4.0</td>\n",
       "      <td>F</td>\n",
       "      <td>Online Stores &amp; Services</td>\n",
       "      <td>0</td>\n",
       "      <td>145.84</td>\n",
       "      <td>31</td>\n",
       "    </tr>\n",
       "    <tr>\n",
       "      <th>3</th>\n",
       "      <td>33</td>\n",
       "      <td>21000</td>\n",
       "      <td>EBAY!!!  I LOVE YOU!!!! :-)*</td>\n",
       "      <td>eBay</td>\n",
       "      <td>5.0</td>\n",
       "      <td>4.0</td>\n",
       "      <td>F</td>\n",
       "      <td>Online Stores &amp; Services</td>\n",
       "      <td>88</td>\n",
       "      <td>149.00</td>\n",
       "      <td>31</td>\n",
       "    </tr>\n",
       "    <tr>\n",
       "      <th>4</th>\n",
       "      <td>33</td>\n",
       "      <td>22300</td>\n",
       "      <td>Blair Witch...Oh Come On.......</td>\n",
       "      <td>Blair Witch Project</td>\n",
       "      <td>1.0</td>\n",
       "      <td>4.0</td>\n",
       "      <td>F</td>\n",
       "      <td>Movies</td>\n",
       "      <td>12</td>\n",
       "      <td>44.00</td>\n",
       "      <td>31</td>\n",
       "    </tr>\n",
       "  </tbody>\n",
       "</table>\n",
       "</div>"
      ],
      "text/plain": [
       "   userId  timestamp                           review                  item  \\\n",
       "0    4051      12807        Great job for what it is!                  eBay   \n",
       "1    4052     122899      Free Access Worth your Time               NetZero   \n",
       "2      33      12700    AOL..I love you!!!!!!!!!!!!    AOL (America Online)   \n",
       "3      33      21000     EBAY!!!  I LOVE YOU!!!! :-)*                  eBay   \n",
       "4      33      22300  Blair Witch...Oh Come On.......   Blair Witch Project   \n",
       "\n",
       "   rating  helpfulness gender                  category  item_id  item_price  \\\n",
       "0     5.0          2.0      F  Online Stores & Services       88      149.00   \n",
       "1     5.0          0.0      F  Online Stores & Services       46       53.00   \n",
       "2     5.0          4.0      F  Online Stores & Services        0      145.84   \n",
       "3     5.0          4.0      F  Online Stores & Services       88      149.00   \n",
       "4     1.0          4.0      F                    Movies       12       44.00   \n",
       "\n",
       "   user_city  \n",
       "0         39  \n",
       "1         39  \n",
       "2         31  \n",
       "3         31  \n",
       "4         31  "
      ]
     },
     "execution_count": 2,
     "metadata": {},
     "output_type": "execute_result"
    }
   ],
   "source": [
    "# your code and solutions\n",
    "import pandas as pd\n",
    "x = pd.read_csv('The E-commerce Dataset.csv')\n",
    "x.head()"
   ]
  },
  {
   "cell_type": "code",
   "execution_count": 4,
   "id": "52cd2925-c3a3-4a7c-887e-72e1a9ebee9e",
   "metadata": {},
   "outputs": [
    {
     "name": "stdout",
     "output_type": "stream",
     "text": [
      "Number of null values in each column:\n",
      "userId          0\n",
      "timestamp       0\n",
      "review          0\n",
      "item            0\n",
      "rating         17\n",
      "helpfulness    22\n",
      "gender         27\n",
      "category        0\n",
      "item_id         0\n",
      "item_price      0\n",
      "user_city       0\n",
      "dtype: int64\n"
     ]
    }
   ],
   "source": [
    "null_counts = x.isnull().sum()\n",
    "print(\"Number of null values in each column:\")\n",
    "print(null_counts)"
   ]
  },
  {
   "cell_type": "code",
   "execution_count": 6,
   "id": "b2cddc00-260f-4cda-89b7-8dee60e25433",
   "metadata": {},
   "outputs": [
    {
     "name": "stdout",
     "output_type": "stream",
     "text": [
      "\n",
      "Length of the data before removing missing values: 20000\n"
     ]
    }
   ],
   "source": [
    "print(\"\\nLength of the data before removing missing values:\", len(x))"
   ]
  },
  {
   "cell_type": "code",
   "execution_count": 7,
   "id": "a03b3b12-4309-4094-a13c-f2100772a836",
   "metadata": {},
   "outputs": [],
   "source": [
    "x_cleaned = x.dropna()"
   ]
  },
  {
   "cell_type": "code",
   "execution_count": 8,
   "id": "57151c52-616a-4356-8af6-d4e1b987a78c",
   "metadata": {},
   "outputs": [
    {
     "name": "stdout",
     "output_type": "stream",
     "text": [
      "\n",
      "Length of the data after removing missing values: 19934\n"
     ]
    }
   ],
   "source": [
    "print(\"\\nLength of the data after removing missing values:\", len(x_cleaned))"
   ]
  },
  {
   "cell_type": "code",
   "execution_count": 9,
   "id": "b7914550",
   "metadata": {},
   "outputs": [
    {
     "data": {
      "text/plain": [
       "(19934, 11)"
      ]
     },
     "execution_count": 9,
     "metadata": {},
     "output_type": "execute_result"
    }
   ],
   "source": [
    "x_cleaned.shape"
   ]
  },
  {
   "cell_type": "markdown",
   "id": "EJG9_LEmqndR",
   "metadata": {
    "id": "EJG9_LEmqndR"
   },
   "source": [
    "#### Q2. Descriptive statistics\n",
    "\n",
    "With the cleaned data in Q1, please provide the data summarization as below:\n",
    "\n",
    "* Q2.1 total number of unique users, unique reviews, unique items, and unique categories\n",
    "* Q2.2 descriptive statistics, e.g., the total number, mean, std, min and max regarding all rating records\n",
    "* Q2.3 descriptive statistics, e.g., mean, std, max, and min of the number of items rated by different genders\n",
    "* Q2.4 descriptive statistics, e.g., mean, std, max, min of the number of ratings that received by each items\n"
   ]
  },
  {
   "cell_type": "code",
   "execution_count": 15,
   "id": "-fiucmwsqndR",
   "metadata": {
    "id": "-fiucmwsqndR"
   },
   "outputs": [
    {
     "name": "stdout",
     "output_type": "stream",
     "text": [
      "Q2.1:\n",
      "Total number of unique users: 8565\n",
      "Total number of unique reviews: 19460\n",
      "Total number of unique items: 89\n",
      "Total number of unique categories: 9\n"
     ]
    }
   ],
   "source": [
    "# your code and solutions\n",
    "unique_users = x_cleaned['userId'].nunique()\n",
    "unique_reviews = x_cleaned['review'].nunique()\n",
    "unique_items = x_cleaned['item'].nunique()\n",
    "unique_categories = x_cleaned['category'].nunique()\n",
    "print(\"Q2.1:\")\n",
    "print(\"Total number of unique users:\", unique_users)\n",
    "print(\"Total number of unique reviews:\", unique_reviews)\n",
    "print(\"Total number of unique items:\", unique_items)\n",
    "print(\"Total number of unique categories:\", unique_categories)"
   ]
  },
  {
   "cell_type": "code",
   "execution_count": 16,
   "id": "20d3dc0f-18cf-423f-9aff-2612711f6ffd",
   "metadata": {},
   "outputs": [
    {
     "name": "stdout",
     "output_type": "stream",
     "text": [
      "\n",
      "Q2.2:\n",
      "Descriptive statistics for all rating records:\n",
      "count    19934.000000\n",
      "mean         3.701415\n",
      "std          1.404546\n",
      "min          1.000000\n",
      "25%          3.000000\n",
      "50%          4.000000\n",
      "75%          5.000000\n",
      "max          5.000000\n",
      "Name: rating, dtype: float64\n"
     ]
    }
   ],
   "source": [
    "rating_stats = x_cleaned['rating'].describe()\n",
    "print(\"\\nQ2.2:\")\n",
    "print(\"Descriptive statistics for all rating records:\")\n",
    "print(rating_stats)"
   ]
  },
  {
   "cell_type": "code",
   "execution_count": 12,
   "id": "d3813cb6-7294-43a5-b646-52bbfc479332",
   "metadata": {},
   "outputs": [
    {
     "name": "stdout",
     "output_type": "stream",
     "text": [
      "\n",
      "Q2.3:\n",
      "Descriptive statistics for the number of items rated by different genders:\n",
      "          count       mean        std  min   25%   50%   75%   max\n",
      "gender                                                            \n",
      "F        9799.0  41.443004  27.269833  0.0  17.0  41.0  65.0  88.0\n",
      "M       10135.0  42.103799  27.281903  0.0  18.0  41.0  66.0  88.0\n"
     ]
    }
   ],
   "source": [
    "gender_item_stats = x_cleaned.groupby('gender')['item_id'].describe()\n",
    "print(\"\\nQ2.3:\")\n",
    "print(\"Descriptive statistics for the number of items rated by different genders:\")\n",
    "print(gender_item_stats)"
   ]
  },
  {
   "cell_type": "code",
   "execution_count": 13,
   "id": "2fbd843c-a3ad-4cbf-a2dd-fdf867e01dfe",
   "metadata": {},
   "outputs": [
    {
     "name": "stdout",
     "output_type": "stream",
     "text": [
      "\n",
      "Q2.4:\n",
      "Descriptive statistics for the number of ratings received by each item:\n",
      "         count      mean       std  min   25%  50%  75%  max\n",
      "item_id                                                     \n",
      "0        941.0  2.497343  1.368818  1.0  1.00  2.0  4.0  5.0\n",
      "1        657.0  3.412481  1.541706  1.0  2.00  4.0  5.0  5.0\n",
      "2        157.0  3.541401  1.263341  1.0  3.00  4.0  4.0  5.0\n",
      "3        240.0  3.683333  1.571095  1.0  2.00  4.0  5.0  5.0\n",
      "4        185.0  3.054054  1.417015  1.0  2.00  3.0  4.0  5.0\n",
      "...        ...       ...       ...  ...   ...  ...  ...  ...\n",
      "84       210.0  3.971429  1.093322  1.0  3.25  4.0  5.0  5.0\n",
      "85       161.0  3.447205  1.198440  1.0  3.00  3.0  4.0  5.0\n",
      "86       245.0  4.118367  0.853074  1.0  4.00  4.0  5.0  5.0\n",
      "87       173.0  4.023121  1.474409  1.0  3.00  5.0  5.0  5.0\n",
      "88       596.0  4.333893  0.949618  1.0  4.00  5.0  5.0  5.0\n",
      "\n",
      "[89 rows x 8 columns]\n"
     ]
    }
   ],
   "source": [
    "item_rating_stats = x_cleaned.groupby('item_id')['rating'].describe()\n",
    "print(\"\\nQ2.4:\")\n",
    "print(\"Descriptive statistics for the number of ratings received by each item:\")\n",
    "print(item_rating_stats)"
   ]
  },
  {
   "cell_type": "markdown",
   "id": "PISggxe5qndR",
   "metadata": {
    "id": "PISggxe5qndR"
   },
   "source": [
    "#### Q3. Plotting and Analysis\n",
    "\n",
    "Please try to explore the correlation between gender/helpfulness/category and ratings; for instance, do female/male users tend to provide higher ratings than male/female users? Hint: you may use the boxplot function to plot figures for comparison (___Challenge___)\n",
    "    \n",
    "You may need to select the most suitable graphic forms for ease of presentation. Most importantly, for each figure or subfigure, please summarise ___what each plot shows___ (i.e. observations and explanations). Finally, you may need to provide an overall summary of the data."
   ]
  },
  {
   "cell_type": "code",
   "execution_count": 14,
   "id": "Zyuvw_WlqndR",
   "metadata": {
    "id": "Zyuvw_WlqndR"
   },
   "outputs": [],
   "source": [
    "# your code and solutions\n",
    "import seaborn as sns\n",
    "import matplotlib.pyplot as plt\n",
    "sns.set_style(\"whitegrid\")\n"
   ]
  },
  {
   "cell_type": "code",
   "execution_count": 17,
   "id": "e38d5476-9578-44a7-83f9-3313ed747590",
   "metadata": {},
   "outputs": [
    {
     "name": "stderr",
     "output_type": "stream",
     "text": [
      "C:\\Users\\acerv\\AppData\\Local\\Programs\\Python\\Python311\\Lib\\site-packages\\seaborn\\categorical.py:632: FutureWarning: SeriesGroupBy.grouper is deprecated and will be removed in a future version of pandas.\n",
      "  positions = grouped.grouper.result_index.to_numpy(dtype=float)\n"
     ]
    },
    {
     "data": {
      "image/png": "[encoded data removed]",
      "text/plain": [
       "<Figure size 1000x600 with 1 Axes>"
      ]
     },
     "metadata": {},
     "output_type": "display_data"
    }
   ],
   "source": [
    "# Create a box plot comparing ratings across gender\n",
    "plt.figure(figsize=(10, 6))\n",
    "sns.boxplot(x='gender', y='rating', data=x_cleaned)\n",
    "plt.title('Distribution of Ratings Across Gender')\n",
    "plt.xlabel('Gender')\n",
    "plt.ylabel('Rating')\n",
    "plt.show()"
   ]
  },
  {
   "cell_type": "code",
   "execution_count": 18,
   "id": "89f1d613-cdef-4c0b-8dc7-04a5a5f9b01f",
   "metadata": {},
   "outputs": [
    {
     "name": "stderr",
     "output_type": "stream",
     "text": [
      "C:\\Users\\acerv\\AppData\\Local\\Programs\\Python\\Python311\\Lib\\site-packages\\seaborn\\categorical.py:632: FutureWarning: SeriesGroupBy.grouper is deprecated and will be removed in a future version of pandas.\n",
      "  positions = grouped.grouper.result_index.to_numpy(dtype=float)\n"
     ]
    },
    {
     "data": {
      "image/png": "[encoded data removed]",
      "text/plain": [
       "<Figure size 1000x600 with 1 Axes>"
      ]
     },
     "metadata": {},
     "output_type": "display_data"
    }
   ],
   "source": [
    "# Create a box plot comparing ratings across helpfulness\n",
    "plt.figure(figsize=(10, 6))\n",
    "sns.boxplot(x='helpfulness', y='rating', data=x_cleaned)\n",
    "plt.title('Distribution of Ratings Across Helpfulness')\n",
    "plt.xlabel('Helpfulness')\n",
    "plt.ylabel('Rating')\n",
    "plt.show()"
   ]
  },
  {
   "cell_type": "code",
   "execution_count": 19,
   "id": "c113fbda-1c8a-40f3-9fed-14a8a028476d",
   "metadata": {},
   "outputs": [
    {
     "name": "stderr",
     "output_type": "stream",
     "text": [
      "C:\\Users\\acerv\\AppData\\Local\\Programs\\Python\\Python311\\Lib\\site-packages\\seaborn\\categorical.py:632: FutureWarning: SeriesGroupBy.grouper is deprecated and will be removed in a future version of pandas.\n",
      "  positions = grouped.grouper.result_index.to_numpy(dtype=float)\n"
     ]
    },
    {
     "data": {
      "image/png": "[encoded data removed]",
      "text/plain": [
       "<Figure size 1200x600 with 1 Axes>"
      ]
     },
     "metadata": {},
     "output_type": "display_data"
    }
   ],
   "source": [
    "# Create a box plot comparing ratings across categories\n",
    "plt.figure(figsize=(12, 6))\n",
    "sns.boxplot(x='category', y='rating', data=x_cleaned)\n",
    "plt.title('Distribution of Ratings Across Categories')\n",
    "plt.xlabel('Category')\n",
    "plt.ylabel('Rating')\n",
    "plt.xticks(rotation=45)\n",
    "plt.show()"
   ]
  },
  {
   "cell_type": "markdown",
   "id": "TxD3SLxRqndR",
   "metadata": {
    "id": "TxD3SLxRqndR"
   },
   "source": [
    "#### Q4. Detect and remove outliers\n",
    "\n",
    "We may define outlier users, reviews and items with three rules (if a record meets one of the rules, it is regarded as an outlier):\n",
    "\n",
    "1. reviews of which the helpfulness is no more than 2\n",
    "2. users who rate less than 7 items\n",
    "3. items that receives less than 11 ratings\n",
    "\n",
    "Please remove the corresponding records in the csv file that involves outlier users, reviews and items. You need to follow the order of rules to perform data cleaning operations. After that, __print the length of the data__."
   ]
  },
  {
   "cell_type": "code",
   "execution_count": 17,
   "id": "JaQJmew4qndR",
   "metadata": {
    "id": "JaQJmew4qndR"
   },
   "outputs": [],
   "source": [
    "# your code and solutions\n",
    "#Remove reviews with helpfulness no more than 2\n",
    "x_cleaned = x_cleaned[x_cleaned['helpfulness'] > 2]"
   ]
  },
  {
   "cell_type": "code",
   "execution_count": 18,
   "id": "1d4de35d-587a-425e-bd0d-ee5f68c5300c",
   "metadata": {},
   "outputs": [],
   "source": [
    "#Remove users who rate less than 7 items\n",
    "user_counts = x_cleaned['userId'].value_counts()\n",
    "outlier_users = user_counts[user_counts < 7].index\n",
    "x_cleaned = x_cleaned[~x_cleaned['userId'].isin(outlier_users)]"
   ]
  },
  {
   "cell_type": "code",
   "execution_count": 19,
   "id": "aa498c38-8f6f-43e6-a994-8d1294895839",
   "metadata": {},
   "outputs": [],
   "source": [
    "#Remove items that receive less than 11 ratings\n",
    "item_counts = x_cleaned['item_id'].value_counts()\n",
    "outlier_items = item_counts[item_counts < 11].index\n",
    "x_cleaned = x_cleaned[~x_cleaned['item_id'].isin(outlier_items)]"
   ]
  },
  {
   "cell_type": "code",
   "execution_count": 20,
   "id": "416b27cb-12ef-4e61-80b5-ae2347241a15",
   "metadata": {},
   "outputs": [
    {
     "name": "stdout",
     "output_type": "stream",
     "text": [
      "Length of the data after removing outliers: 2696\n"
     ]
    }
   ],
   "source": [
    "print(\"Length of the data after removing outliers:\", len(x_cleaned))"
   ]
  },
  {
   "cell_type": "code",
   "execution_count": null,
   "id": "dfbe1f6a",
   "metadata": {},
   "outputs": [],
   "source": [
    "Summary:-\n",
    "    \n",
    "I understood the concept of many concepts like plotting of a data, analyzing a data and also removing of a data.\n",
    "In the first question, I removed the missing data and then I described it like how I did that.\n",
    "In the second question, I understood the concept of mean, standard deviation and minimum and maximum value of a data.\n",
    "In the third question, I understood how to plot, import and analyze a data.\n",
    "And lastly In the last question, I understood how to detect and remove outliers."
   ]
  }
 ],
 "metadata": {
  "colab": {
   "provenance": []
  },
  "kernelspec": {
   "display_name": "Python 3 (ipykernel)",
   "language": "python",
   "name": "python3"
  },
  "language_info": {
   "codemirror_mode": {
    "name": "ipython",
    "version": 3
   },
   "file_extension": ".py",
   "mimetype": "text/x-python",
   "name": "python",
   "nbconvert_exporter": "python",
   "pygments_lexer": "ipython3",
   "version": "3.11.5"
  }
 },
 "nbformat": 4,
 "nbformat_minor": 5
}
